{
  "cells": [
    {
      "cell_type": "code",
      "execution_count": 40,
      "metadata": {
        "colab": {
          "base_uri": "https://localhost:8080/"
        },
        "id": "mlvdo8CvQvmz",
        "outputId": "540dff39-49ab-491f-d965-0f27e32a1ecb"
      },
      "outputs": [
        {
          "name": "stdout",
          "output_type": "stream",
          "text": [
            "Drive already mounted at /content/drive; to attempt to forcibly remount, call drive.mount(\"/content/drive\", force_remount=True).\n"
          ]
        }
      ],
      "source": [
        "from google.colab import drive\n",
        "drive.mount('/content/drive')"
      ]
    },
    {
      "cell_type": "code",
      "execution_count": 61,
      "metadata": {
        "colab": {
          "base_uri": "https://localhost:8080/"
        },
        "id": "1AcQid0OQ-pr",
        "outputId": "d2026506-b2a3-4e0f-ae30-02b1adeab17d"
      },
      "outputs": [
        {
          "name": "stdout",
          "output_type": "stream",
          "text": [
            "Updated dataset saved at: /content/drive/My Drive/Updated_Trading_Dataset.csv\n"
          ]
        }
      ],
      "source": [
        "import pandas as pd\n",
        "\n",
        "# Load the provided dataset\n",
        "file_path = \"Trading_Dataset.csv\"\n",
        "df = pd.read_csv(file_path)\n",
        "\n",
        "# Initialize Fraud flag column\n",
        "df[\"FlagOfFraud\"] = 0\n",
        "\n",
        "# Condition 1: TradeOut_Amount is exactly +1% or -1% of TradeIn_Amount\n",
        "trade_difference = ((df[\"TradeOut_Amount\"] - df[\"TradeIn_Amount\"]) / df[\"TradeIn_Amount\"])*100\n",
        "df.loc[(trade_difference >= -1) & (trade_difference <= 99), \"FlagOfFraud\"] += 1\n",
        "\n",
        "# Condition 2: Trading time interval is less than 8 seconds\n",
        "df.loc[df[\"TradingTimeIntervalMean\"] < 8, \"FlagOfFraud\"] += 1\n",
        "\n",
        "# Condition 3: Withdrawal value is more than 80% of the deposit value\n",
        "#withdrawal_ratio = df[\"WithdrawalValue\"] / df[\"DepositValue\"]\n",
        "#df.loc[withdrawal_ratio > 0.8, \"FlagOfFraud\"] += 1\n",
        "\n",
        "# Condition 3: Deposit bank and withdrawal bank are not the same\n",
        "df.loc[df[\"DepositBank\"] != df[\"WithdrawalBank\"], \"FlagOfFraud\"] += 1\n",
        "\n",
        "# Save the updated dataset\n",
        "updated_file_path = \"/content/drive/My Drive/Updated_Trading_Dataset.csv\"\n",
        "df.to_csv(updated_file_path, index=False)\n",
        "\n",
        "# Provide the download link\n",
        "print(f\"Updated dataset saved at: {updated_file_path}\")\n"
      ]
    }
  ],
  "metadata": {
    "colab": {
      "provenance": []
    },
    "kernelspec": {
      "display_name": ".venv",
      "language": "python",
      "name": "python3"
    },
    "language_info": {
      "name": "python",
      "version": "3.10.11"
    }
  },
  "nbformat": 4,
  "nbformat_minor": 0
}
